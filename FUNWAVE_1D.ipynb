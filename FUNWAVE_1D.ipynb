{
 "cells": [
  {
   "cell_type": "markdown",
   "metadata": {
    "deletable": true,
    "editable": true
   },
   "source": [
    "# ![FUNWAVE Banner](media/funwave_banner.png)"
   ]
  },
  {
   "cell_type": "markdown",
   "metadata": {
    "deletable": true,
    "editable": true
   },
   "source": [
    "This Notebook runs a simple one-dimensional FUNWAVE simulations. \n",
    "===\n",
    "It consists of the following **four** steps:\n",
    "----\n",
    "\n",
    "1. **Bathymetry** -- In this step you can generate a one-dimensional bathymetry that will be used in the FUNWAVE simulation. The user has the option of creating a flat or sloped bathymetry, or upload his own bathymetry file. Once the the required FUNWAVE `depth` file is generated, proceed to Step #2.\n",
    "\n",
    "2. **Input File** -- In this tab you can specify most input variables and parameters that will generate the required input file (input.txt)  for the FUNWAVE simulation. After generating your input file, proceed to Step #3.\n",
    "\n",
    "3. **Run FUNWAVE** -- This tab allows you run FUNWAVE without the need of a command line/terminal. You can also see the simulation's proggress and abort it if necessary. Proceed to Step #4 to process your results.\n",
    "\n",
    "4. **Post Processing** -- This tab gives you the option of generating an image/plot at a specific time, or generating a video of the simulation."
   ]
  },
  {
   "cell_type": "code",
   "execution_count": 1,
   "metadata": {
    "collapsed": false,
    "deletable": true,
    "editable": true,
    "nbpresent": {
     "id": "dd7cad15-1110-40c3-a0eb-b4b11ed49b84"
    },
    "scrolled": false
   },
   "outputs": [
    {
     "data": {
      "application/vnd.jupyter.widget-view+json": {
       "model_id": "d6163dd3b1dd4e0897eef3dcdebdf4f7",
       "version_major": 2,
       "version_minor": 0
      },
      "text/plain": [
       "A Jupyter Widget"
      ]
     },
     "metadata": {},
     "output_type": "display_data"
    }
   ],
   "source": [
    "import pyFiles.main1D"
   ]
  },
  {
   "cell_type": "code",
   "execution_count": null,
   "metadata": {
    "collapsed": true,
    "deletable": true,
    "editable": true
   },
   "outputs": [],
   "source": []
  }
 ],
 "metadata": {
  "anaconda-cloud": {},
  "kernelspec": {
   "display_name": "Python [default]",
   "language": "python",
   "name": "python3"
  },
  "language_info": {
   "codemirror_mode": {
    "name": "ipython",
    "version": 3
   },
   "file_extension": ".py",
   "mimetype": "text/x-python",
   "name": "python",
   "nbconvert_exporter": "python",
   "pygments_lexer": "ipython3",
   "version": "3.5.2"
  },
  "nbTranslate": {
   "displayLangs": [
    "*"
   ],
   "hotkey": "alt-t",
   "langInMainMenu": true,
   "sourceLang": "en",
   "targetLang": "fr",
   "useGoogleTranslate": true
  }
 },
 "nbformat": 4,
 "nbformat_minor": 2
}
