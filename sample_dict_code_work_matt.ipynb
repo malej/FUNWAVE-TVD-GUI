{
 "cells": [
  {
   "cell_type": "code",
   "execution_count": 1,
   "metadata": {
    "collapsed": true
   },
   "outputs": [],
   "source": [
    "import numpy as np"
   ]
  },
  {
   "cell_type": "code",
   "execution_count": 49,
   "metadata": {
    "collapsed": true
   },
   "outputs": [],
   "source": [
    "# sample function\n",
    "def printKey(argKey, value):\n",
    "    print(\"Printing MY argument key: \", argKey, ' and passed in value: ', value)\n",
    "    \n",
    "def brotherKey(otherArgKey, otherValue):\n",
    "        print(\"Printing OTHER argument key: \", otherArgKey, ' and passed in value: ', otherValue)"
   ]
  },
  {
   "cell_type": "code",
   "execution_count": 50,
   "metadata": {
    "collapsed": false
   },
   "outputs": [],
   "source": [
    "# dictionary containing function handle (name of function as argument)\n",
    "myDict={}\n",
    "myKey = 'years'\n",
    "otherKey = 'brothers'\n",
    "\n",
    "# add items (function name/handles) to the dictionary\n",
    "myDict[myKey]=printKey\n",
    "myDict[otherKey]=brotherKey "
   ]
  },
  {
   "cell_type": "code",
   "execution_count": 51,
   "metadata": {
    "collapsed": false
   },
   "outputs": [
    {
     "data": {
      "text/plain": [
       "<function TextIOWrapper.close>"
      ]
     },
     "execution_count": 51,
     "metadata": {},
     "output_type": "execute_result"
    }
   ],
   "source": [
    "# created a quick text file for testing\n",
    "fileName = 'sampleText.txt'\n",
    "fin = open(fileName,'r')\n",
    "lines = fin.readlines()\n",
    "fin.close"
   ]
  },
  {
   "cell_type": "code",
   "execution_count": 52,
   "metadata": {
    "collapsed": false
   },
   "outputs": [
    {
     "name": "stdout",
     "output_type": "stream",
     "text": [
      "Line#  1 :  My name is Colo!\n",
      "\n",
      "Line#  2 :  Colo is a super cool name!\n",
      "\n",
      "Line#  3 :  I come from Uganda.\n",
      "\n",
      "Line#  4 :  I am 24 years old.\n",
      "\n",
      "Line#  5 :  I have 5 brothers and 7 sisters!\n",
      "\n"
     ]
    }
   ],
   "source": [
    "# just checking if the file lines were read in correctly \n",
    "for index, line in enumerate(lines):\n",
    "    print('Line# ', index+1, \": \", line)"
   ]
  },
  {
   "cell_type": "code",
   "execution_count": 53,
   "metadata": {
    "collapsed": false
   },
   "outputs": [
    {
     "name": "stdout",
     "output_type": "stream",
     "text": [
      "Printing MY argument key:  years  and passed in value:  24\n",
      "Printing OTHER argument key:  brothers  and passed in value:  5\n"
     ]
    }
   ],
   "source": [
    "for line in lines:\n",
    "    # check if line string containing myKey='years' is there\n",
    "    if myKey in line:\n",
    "        tempLine = line.strip()\n",
    "        tempList = line.split()\n",
    "        \n",
    "        # now send the argument '24' to the desired function based on the key\n",
    "        parameterToBeSent = int(tempList[2])\n",
    "        myDict[myKey](myKey, parameterToBeSent)\n",
    "        \n",
    "    elif otherKey in line:\n",
    "        # little faster/concise sample\n",
    "        newList = line.strip().split()\n",
    "        myDict[otherKey](otherKey, int(newList[2]))\n",
    "    else:\n",
    "        pass\n",
    "    "
   ]
  },
  {
   "cell_type": "code",
   "execution_count": null,
   "metadata": {
    "collapsed": true
   },
   "outputs": [],
   "source": []
  }
 ],
 "metadata": {
  "kernelspec": {
   "display_name": "Python [default]",
   "language": "python",
   "name": "python3"
  },
  "language_info": {
   "codemirror_mode": {
    "name": "ipython",
    "version": 3
   },
   "file_extension": ".py",
   "mimetype": "text/x-python",
   "name": "python",
   "nbconvert_exporter": "python",
   "pygments_lexer": "ipython3",
   "version": "3.5.2"
  },
  "nbTranslate": {
   "displayLangs": [
    "*"
   ],
   "hotkey": "alt-t",
   "langInMainMenu": true,
   "sourceLang": "en",
   "targetLang": "fr",
   "useGoogleTranslate": true
  }
 },
 "nbformat": 4,
 "nbformat_minor": 2
}
