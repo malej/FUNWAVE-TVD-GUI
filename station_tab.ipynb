{
 "cells": [
  {
   "cell_type": "code",
   "execution_count": 18,
   "metadata": {},
   "outputs": [
    {
     "data": {
      "application/vnd.jupyter.widget-view+json": {
       "model_id": "eaaf5726868c4c11a159c6da9fde5855",
       "version_major": 2,
       "version_minor": 0
      },
      "text/html": [
       "<p>Failed to display Jupyter Widget of type <code>HBox</code>.</p>\n",
       "<p>\n",
       "  If you're reading this message in Jupyter Notebook or JupyterLab, it may mean\n",
       "  that the widgets JavaScript is still loading. If this message persists, it\n",
       "  likely means that the widgets JavaScript library is either not installed or\n",
       "  not enabled. See the <a href=\"https://ipywidgets.readthedocs.io/en/stable/user_install.html\">Jupyter\n",
       "  Widgets Documentation</a> for setup instructions.\n",
       "</p>\n",
       "<p>\n",
       "  If you're reading this message in another notebook frontend (for example, a static\n",
       "  rendering on GitHub or <a href=\"https://nbviewer.jupyter.org/\">NBViewer</a>),\n",
       "  it may mean that your frontend doesn't currently support widgets.\n",
       "</p>\n"
      ],
      "text/plain": [
       "HBox(children=(HTML(value='Specify the <b>amount of stations</b>:', layout=Layout(height='20px', width='22%')), BoundedIntText(value=0, layout=Layout(height='40px', width='15%'), max=18), Button(description='Update Station Number', layout=Layout(height='30px', width='18%'), style=ButtonStyle())), layout=Layout(height='55px', width='90%'))"
      ]
     },
     "metadata": {},
     "output_type": "display_data"
    },
    {
     "data": {
      "application/vnd.jupyter.widget-view+json": {
       "model_id": "ce840e9b3b9946f390c34926a4d37e8f",
       "version_major": 2,
       "version_minor": 0
      },
      "text/html": [
       "<p>Failed to display Jupyter Widget of type <code>VBox</code>.</p>\n",
       "<p>\n",
       "  If you're reading this message in Jupyter Notebook or JupyterLab, it may mean\n",
       "  that the widgets JavaScript is still loading. If this message persists, it\n",
       "  likely means that the widgets JavaScript library is either not installed or\n",
       "  not enabled. See the <a href=\"https://ipywidgets.readthedocs.io/en/stable/user_install.html\">Jupyter\n",
       "  Widgets Documentation</a> for setup instructions.\n",
       "</p>\n",
       "<p>\n",
       "  If you're reading this message in another notebook frontend (for example, a static\n",
       "  rendering on GitHub or <a href=\"https://nbviewer.jupyter.org/\">NBViewer</a>),\n",
       "  it may mean that your frontend doesn't currently support widgets.\n",
       "</p>\n"
      ],
      "text/plain": [
       "VBox(layout=Layout(height='465px', width='90%'))"
      ]
     },
     "metadata": {},
     "output_type": "display_data"
    },
    {
     "data": {
      "application/vnd.jupyter.widget-view+json": {
       "model_id": "fea6e9f7879c497c99c2655898176899",
       "version_major": 2,
       "version_minor": 0
      },
      "text/html": [
       "<p>Failed to display Jupyter Widget of type <code>Button</code>.</p>\n",
       "<p>\n",
       "  If you're reading this message in Jupyter Notebook or JupyterLab, it may mean\n",
       "  that the widgets JavaScript is still loading. If this message persists, it\n",
       "  likely means that the widgets JavaScript library is either not installed or\n",
       "  not enabled. See the <a href=\"https://ipywidgets.readthedocs.io/en/stable/user_install.html\">Jupyter\n",
       "  Widgets Documentation</a> for setup instructions.\n",
       "</p>\n",
       "<p>\n",
       "  If you're reading this message in another notebook frontend (for example, a static\n",
       "  rendering on GitHub or <a href=\"https://nbviewer.jupyter.org/\">NBViewer</a>),\n",
       "  it may mean that your frontend doesn't currently support widgets.\n",
       "</p>\n"
      ],
      "text/plain": [
       "Button(description='Generate Station File', layout=Layout(height='40px', width='18%'), style=ButtonStyle())"
      ]
     },
     "metadata": {},
     "output_type": "display_data"
    },
    {
     "name": "stdout",
     "output_type": "stream",
     "text": [
      "loc x:  [ 0.  0.  0.  0.]\n",
      "loc y:  [ 1.  1.  1.  1.]\n"
     ]
    },
    {
     "ename": "IndexError",
     "evalue": "tuple index out of range",
     "output_type": "error",
     "traceback": [
      "\u001b[0;31m---------------------------------------------------------------------------\u001b[0m",
      "\u001b[0;31mIndexError\u001b[0m                                Traceback (most recent call last)",
      "\u001b[0;32m<ipython-input-18-a5d0d4c229da>\u001b[0m in \u001b[0;36mgenerate_station_file\u001b[0;34m(variable)\u001b[0m\n\u001b[1;32m     42\u001b[0m \u001b[0;34m\u001b[0m\u001b[0m\n\u001b[1;32m     43\u001b[0m             \u001b[0mindex\u001b[0m \u001b[0;34m=\u001b[0m \u001b[0mi\u001b[0m \u001b[0;34m-\u001b[0m \u001b[0;36m9\u001b[0m\u001b[0;34m\u001b[0m\u001b[0m\n\u001b[0;32m---> 44\u001b[0;31m             \u001b[0mList4\u001b[0m \u001b[0;34m=\u001b[0m \u001b[0mList3\u001b[0m\u001b[0;34m[\u001b[0m\u001b[0mindex\u001b[0m\u001b[0;34m]\u001b[0m\u001b[0;34m.\u001b[0m\u001b[0mchildren\u001b[0m\u001b[0;34m\u001b[0m\u001b[0m\n\u001b[0m\u001b[1;32m     45\u001b[0m \u001b[0;34m\u001b[0m\u001b[0m\n\u001b[1;32m     46\u001b[0m             \u001b[0;31m# create lists of the widgets values (loc x & loc y)\u001b[0m\u001b[0;34m\u001b[0m\u001b[0;34m\u001b[0m\u001b[0m\n",
      "\u001b[0;31mIndexError\u001b[0m: tuple index out of range"
     ]
    }
   ],
   "source": [
    "import ipywidgets as widgets\n",
    "from traitlets import link\n",
    "import numpy as np\n",
    "from IPython.display import display, clear_output, HTML\n",
    "\n",
    "def generate_station_file(variable):\n",
    "    num = stations.value\n",
    "    List = station_box.children # widgets stucture inside station_box\n",
    "    locX = []\n",
    "    #locY = []\n",
    "\n",
    "    if num == 0:\n",
    "        pass\n",
    "\n",
    "    elif num < 10:\n",
    "        for i in range(num):\n",
    "\n",
    "            #Deconstruct the widget stucture:\n",
    "            List2 = List[i] \n",
    "\n",
    "            # create lists of the widgets values (loc x & loc y)\n",
    "            locX.insert(i,List2.children[1].value)\n",
    "            #locY.insert(i,List2.children[2].value)\n",
    "\n",
    "    else:\n",
    "        for i in range(9):\n",
    "              \n",
    "            #Deconstruct the widget stucture:\n",
    "            List2 = List[0].children  \n",
    "            List3 = List2[0].children # first column\n",
    "            List4 = List3[i].children\n",
    "\n",
    "            # create lists of the widgets values (loc x & loc y)\n",
    "            locX.insert(i,List4[1].value)\n",
    "            #locY.insert(i,List4[2].value)\n",
    "        \n",
    "        for i in range(9,num):\n",
    "            \n",
    "            #Deconstruct the widget stucture:\n",
    "            List2 = List[0].children  \n",
    "            List3 = List2[1].children # second column\n",
    "            \n",
    "            index = i - 9\n",
    "            List4 = List3[index].children\n",
    "            \n",
    "            # create lists of the widgets values (loc x & loc y)\n",
    "            locX.insert(i,List4[1].value)\n",
    "            #locY.insert(i,List4[2].value)\n",
    "            \n",
    "    locX = np.asarray(locX).T\n",
    "    locY = locX * 0 + 1\n",
    "\n",
    "    print('loc x: ',locX)\n",
    "    print('loc y: ',locY)\n",
    "    \n",
    "def update_station_number(variable):\n",
    "    num = stations.value\n",
    "    \n",
    "    if num < 10:\n",
    "        stations_list_locX = []\n",
    "        #stations_list_locY = []\n",
    "        stations_list = []\n",
    "\n",
    "        for i in range(num):\n",
    "            station_ID = widgets.HTML(\"\"\"Station #%d\"\"\"%(i+1),\n",
    "                                          layout = widgets.Layout(width = \"30%\"))\n",
    "            stations_list_locX.insert(i,widgets.BoundedFloatText(description = 'X coordinate: ', max = '100', min = '0'\n",
    "                                                             ,layout = widgets.Layout(width = \"70%\",height = '45px')))\n",
    "            #stations_list_locY.insert(i,widgets.BoundedFloatText(description = 'Y coordinate: ', max = '100', min = '0'\n",
    "            #                                                 ,layout = widgets.Layout(width = \"70%\",height = '45px')))\n",
    "\n",
    "            stations_list.insert(i,widgets.HBox([station_ID,stations_list_locX[i]],\n",
    "                                                layout=widgets.Layout(width = \"50%\",\n",
    "                                                                    border='solid 1px grey')))\n",
    "\n",
    "            station_box.children = stations_list\n",
    "    \n",
    "    elif num == 0:\n",
    "        station_box.layout.display='none'\n",
    "        \n",
    "    else:\n",
    "        station_colums = widgets.HBox([])\n",
    "        \n",
    "        stations_list_locX_col1 = []\n",
    "        #stations_list_locY_col1 = []\n",
    "\n",
    "        stations_list_locX_col2 = []\n",
    "        #stations_list_locY_col2 = []\n",
    "\n",
    "        stations_list_col1 = []\n",
    "        stations_col1 = widgets.VBox([],layout = widgets.Layout(width = \"100%\",height = '450px'))\n",
    "\n",
    "        stations_list_col2 = []\n",
    "        stations_col2 = widgets.VBox([],layout = widgets.Layout(width = \"100%\",height = '450px'))\n",
    "\n",
    "        for i in range(9):\n",
    "            station_ID_col1 = widgets.HTML(\"\"\"Station #%d\"\"\"%(i+1),\n",
    "                                          layout = widgets.Layout(width = \"30%\"))\n",
    "            stations_list_locX_col1.insert(i,widgets.BoundedFloatText(description = 'X coordinate: ', max = '100', min = '0'\n",
    "                                                             ,layout = widgets.Layout(width = \"35%\",height = '43px')))\n",
    "            #stations_list_locY_col1.insert(i,widgets.BoundedFloatText(description = 'Y coordinate: ', max = '100', min = '0'\n",
    "            #                                                 ,layout = widgets.Layout(width = \"35%\",height = '43px')))\n",
    "\n",
    "            stations_list_col1.insert(i,widgets.HBox([station_ID_col1,stations_list_locX_col1[i]],\n",
    "                                                          layout=widgets.Layout(border='solid 1px grey')))\n",
    "            stations_col1.children = stations_list_col1\n",
    "\n",
    "        for i in range(9,num):\n",
    "            index = i - 9\n",
    "            station_ID_col2 = widgets.HTML(\"\"\"Station #%d\"\"\"%(i+1),\n",
    "                                          layout = widgets.Layout(width = \"30%\"))\n",
    "\n",
    "            stations_list_locX_col2.insert(index,widgets.BoundedFloatText(description = 'X coordinate: ', max = '100', min = '0'\n",
    "                                                             ,layout = widgets.Layout(width = \"35%\",height = '43px')))\n",
    "            #stations_list_locY_col2.insert(index,widgets.BoundedFloatText(description = 'Y coordinate: ', max = '100', min = '0'\n",
    "            #                                                 ,layout = widgets.Layout(width = \"35%\",height = '43px')))\n",
    "\n",
    "            stations_list_col2.insert(index,widgets.HBox([station_ID_col2,stations_list_locX_col2[index]],\n",
    "                                                          layout=widgets.Layout(border='solid 1px grey')))\n",
    "            stations_col2.children = stations_list_col2\n",
    "\n",
    "        station_colums.children = stations_col1,stations_col2\n",
    "        station_box.children = [station_colums]\n",
    "    \n",
    "label_stations = widgets.HTML(\"\"\"Specify the <b>amount of stations</b>:\"\"\",\n",
    "                              layout = widgets.Layout(width = '22%',height = '20px'))\n",
    "stations = widgets.BoundedIntText(max = '18', min = '0',layout = widgets.Layout(width = \"15%\",height = '40px'))\n",
    "update_stations_button = widgets.Button(description = 'Update Station Number',layout = widgets.Layout(width = \"18%\",\n",
    "                                  height = '30px'))\n",
    "\n",
    "station_number_box = widgets.HBox([label_stations,stations,update_stations_button],\n",
    "                               layout = widgets.Layout(width = \"90%\",height = '55px'))\n",
    "\n",
    "station_box = widgets.VBox([],layout = widgets.Layout(width = \"90%\",height = '465px'))\n",
    "\n",
    "generate_stations_button = widgets.Button(description = 'Generate Station File',layout = widgets.Layout(width = \"18%\",\n",
    "                                  height = '40px'))\n",
    "display(station_number_box,station_box, generate_stations_button)\n",
    "\n",
    "update_stations_button.on_click(update_station_number)\n",
    "generate_stations_button.on_click(generate_station_file)"
   ]
  }
 ],
 "metadata": {
  "kernelspec": {
   "display_name": "Python 3",
   "language": "python",
   "name": "python3"
  },
  "language_info": {
   "codemirror_mode": {
    "name": "ipython",
    "version": 3
   },
   "file_extension": ".py",
   "mimetype": "text/x-python",
   "name": "python",
   "nbconvert_exporter": "python",
   "pygments_lexer": "ipython3",
   "version": "3.6.1"
  }
 },
 "nbformat": 4,
 "nbformat_minor": 2
}
