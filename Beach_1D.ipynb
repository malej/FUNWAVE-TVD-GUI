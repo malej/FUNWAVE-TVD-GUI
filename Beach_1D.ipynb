{
 "cells": [
  {
   "cell_type": "markdown",
   "metadata": {
    "deletable": true,
    "editable": true
   },
   "source": [
    "This Notebook runs simple one-dimensional FUNWAVE simulations. \n",
    "-----\n",
    "\n",
    "It consists of the following four steps:\n",
    "\n",
    "* **Step #1** - Bathymetry: In this step you can generate the one-dimensional bathymetry that will be used in the FUNWAVE simulation. The user has the option of creating a flat bathymetry, a slope bathymetry or upload his own file. Once the depth file is generated, proceed to Step #2.\n",
    "\n",
    "* **Step #2** - Input File: In this tab you can generate the Input file with your desired specifications for the simulation. After generating your input file, proceed to Step #3.\n",
    "\n",
    "* **Step #3** - Run Funwave: This tab lets you run FUNWAVE without the need of a terminal. You can also see the simulation's proggress and abort it if it is necessary. Proceed to Step #4 to process your results.\n",
    "\n",
    "* **Step #4** - Post Processing: This tab gives you the option of generating an image at an specific time or generate a video of the simulation."
   ]
  },
  {
   "cell_type": "code",
   "execution_count": 1,
   "metadata": {
    "collapsed": false,
    "deletable": true,
    "editable": true,
    "nbpresent": {
     "id": "dd7cad15-1110-40c3-a0eb-b4b11ed49b84"
    },
    "scrolled": true
   },
   "outputs": [
    {
     "data": {
      "application/vnd.jupyter.widget-view+json": {
       "model_id": "ac9f949d6d724d98b6391477892a3790",
       "version_major": 2,
       "version_minor": 0
      },
      "text/plain": [
       "A Jupyter Widget"
      ]
     },
     "metadata": {},
     "output_type": "display_data"
    },
    {
     "data": {
      "application/vnd.jupyter.widget-view+json": {
       "model_id": "17d0aabccf364a6da3fef6b1c22d0c01",
       "version_major": 2,
       "version_minor": 0
      },
      "text/plain": [
       "A Jupyter Widget"
      ]
     },
     "metadata": {},
     "output_type": "display_data"
    },
    {
     "data": {
      "application/vnd.jupyter.widget-view+json": {
       "model_id": "ac9f949d6d724d98b6391477892a3790",
       "version_major": 2,
       "version_minor": 0
      },
      "text/plain": [
       "A Jupyter Widget"
      ]
     },
     "metadata": {},
     "output_type": "display_data"
    }
   ],
   "source": [
    "import pyFiles.main1D"
   ]
  }
 ],
 "metadata": {
  "anaconda-cloud": {},
  "kernelspec": {
   "display_name": "Python [default]",
   "language": "python",
   "name": "python3"
  },
  "language_info": {
   "codemirror_mode": {
    "name": "ipython",
    "version": 3
   },
   "file_extension": ".py",
   "mimetype": "text/x-python",
   "name": "python",
   "nbconvert_exporter": "python",
   "pygments_lexer": "ipython3",
   "version": "3.5.2"
  },
  "nbTranslate": {
   "displayLangs": [
    "*"
   ],
   "hotkey": "alt-t",
   "langInMainMenu": true,
   "sourceLang": "en",
   "targetLang": "fr",
   "useGoogleTranslate": true
  }
 },
 "nbformat": 4,
 "nbformat_minor": 2
}
